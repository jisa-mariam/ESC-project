{
 "cells": [
  {
   "cell_type": "markdown",
   "metadata": {},
   "source": [
    "# To import the excel file and check that it can extract out the variables\n",
    "\n",
    "https://towardsdatascience.com/accessing-google-spreadsheet-data-using-python-90a5bc214fd2"
   ]
  },
  {
   "cell_type": "code",
   "execution_count": 1,
   "metadata": {},
   "outputs": [],
   "source": [
    "import pandas as pd\n"
   ]
  },
  {
   "cell_type": "markdown",
   "metadata": {},
   "source": [
    "### To read the csv file and store it into a data variable "
   ]
  },
  {
   "cell_type": "code",
   "execution_count": 2,
   "metadata": {},
   "outputs": [],
   "source": [
    "data = pd.read_csv(\"Capstone group's preferences.csv\")\n",
    "#data.head()\n",
    "#csv file must be in the same directory as the jupyter code3"
   ]
  },
  {
   "cell_type": "markdown",
   "metadata": {},
   "source": [
    "### To indicate the columns of interest and pull it out into a col variable"
   ]
  },
  {
   "cell_type": "code",
   "execution_count": 3,
   "metadata": {},
   "outputs": [],
   "source": [
    "columns = [\"Team ID\", \"Showcase area: Length(meters)\", \"Showcase area: Width(meters)\"]\n",
    "col = pd.read_csv(\"Capstone group's preferences.csv\", usecols = columns)"
   ]
  },
  {
   "cell_type": "markdown",
   "metadata": {},
   "source": [
    "### To check for total submissions\n",
    "Assuming that there are only 4 groups, if the total submission count is not equal to 4, inform capstone."
   ]
  },
  {
   "cell_type": "code",
   "execution_count": 4,
   "metadata": {},
   "outputs": [
    {
     "name": "stdout",
     "output_type": "stream",
     "text": [
      "All groups have submitted, please proceed\n"
     ]
    }
   ],
   "source": [
    "total_groups_number = 4\n",
    "if (col.shape[0] < total_groups_number):\n",
    "    print(\"Not all groups have submitted, do some action to remedy\")\n",
    "elif (col.shape[0] > total_groups_number):\n",
    "    print(\"There is oversubmission, do some action to remedy\")\n",
    "else:\n",
    "    print(\"All groups have submitted, please proceed\")\n"
   ]
  },
  {
   "cell_type": "markdown",
   "metadata": {},
   "source": [
    "### To check for duplicate submissions\n",
    "Although the total submission count could be accurate, it may be a result of some group's unsubmitted preference and another group's duplicate submission. \n",
    "In the case where there is over submission, this block of code will be useful to check for duplicate submission. "
   ]
  },
  {
   "cell_type": "code",
   "execution_count": 5,
   "metadata": {},
   "outputs": [
    {
     "name": "stdout",
     "output_type": "stream",
     "text": [
      "Duplicate found: team 2019001\n",
      "Duplicate found: team 2019002\n"
     ]
    }
   ],
   "source": [
    "#where i am assuming there to be 4 groups\n",
    "\n",
    "groups_checked = [\"Not check\"]\n",
    "for i in range(4):\n",
    "    groups_checked.append(\"Not check\")\n",
    "\n",
    "\n",
    "\n",
    "for i in range(4):\n",
    "    team_id = col[\"Team ID\"][i] - 2019000\n",
    "    #print(team_id)\n",
    "    if (groups_checked[team_id] == \"Not check\"):\n",
    "        groups_checked[team_id] = \"checked\"\n",
    "    else:\n",
    "        print(\"Duplicate found: team {}\".format(col[\"Team ID\"][i]))\n",
    "    \n",
    "    \n",
    "#print(groups_checked)\n",
    "#groups_checked[2] = \"checked\"\n",
    "#print(groups_checked[2])"
   ]
  },
  {
   "cell_type": "markdown",
   "metadata": {},
   "source": [
    "### To pull out all the necessary information required and store them into a database to send to the algorithm to process"
   ]
  },
  {
   "cell_type": "code",
   "execution_count": 6,
   "metadata": {},
   "outputs": [
    {
     "name": "stdout",
     "output_type": "stream",
     "text": [
      "Area of team 2019001 is 5.0m2 with length 2.5m and width 2m\n",
      "Area of team 2019002 is 2.0m2 with length 2.0m and width 1m\n",
      "Area of team 2019001 is 4.0m2 with length 4.0m and width 1m\n",
      "Area of team 2019002 is 9.0m2 with length 3.0m and width 3m\n"
     ]
    }
   ],
   "source": [
    "#variables can be stored into a database to send to the algorithm to process\n",
    "for i in range(col.shape[0]):\n",
    "    team_id = col[\"Team ID\"][i]\n",
    "    length = col[\"Showcase area: Length(meters)\"][i]\n",
    "    width = col[\"Showcase area: Width(meters)\"][i]\n",
    "    area = length * width\n",
    "    print(\"Area of team {} is {}m2 with length {}m and width {}m\".format(team_id, area, length, width))"
   ]
  },
  {
   "cell_type": "code",
   "execution_count": null,
   "metadata": {},
   "outputs": [],
   "source": []
  }
 ],
 "metadata": {
  "kernelspec": {
   "display_name": "Python 3",
   "language": "python",
   "name": "python3"
  },
  "language_info": {
   "codemirror_mode": {
    "name": "ipython",
    "version": 3
   },
   "file_extension": ".py",
   "mimetype": "text/x-python",
   "name": "python",
   "nbconvert_exporter": "python",
   "pygments_lexer": "ipython3",
   "version": "3.7.4"
  }
 },
 "nbformat": 4,
 "nbformat_minor": 2
}
