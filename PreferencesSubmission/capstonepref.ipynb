{
 "cells": [
  {
   "cell_type": "markdown",
   "metadata": {},
   "source": [
    "# To import the excel file and check that it can extract out the variables\n",
    "\n",
    "https://towardsdatascience.com/accessing-google-spreadsheet-data-using-python-90a5bc214fd2"
   ]
  },
  {
   "cell_type": "code",
   "execution_count": 1,
   "metadata": {},
   "outputs": [],
   "source": [
    "import gspread\n",
    "from oauth2client.service_account import ServiceAccountCredentials\n",
    "import pprint"
   ]
  },
  {
   "cell_type": "markdown",
   "metadata": {},
   "source": [
    "### To access the online excel sheet and its variables\n",
    "https://docs.google.com/spreadsheets/d/1LT7AOWy1jw8HuAT00N2ULrLylFRoGZzYEUMHDGi6es0/edit#gid=1320405905"
   ]
  },
  {
   "cell_type": "code",
   "execution_count": 2,
   "metadata": {},
   "outputs": [],
   "source": [
    "scope = ['https://spreadsheets.google.com/feeds', 'https://www.googleapis.com/auth/drive']\n",
    "\n",
    "creds = ServiceAccountCredentials.from_json_keyfile_name('pref-3e777ad38276.json', scope)\n",
    "\n",
    "client = gspread.authorize(creds)\n",
    "\n",
    "sheet = client.open('Capstone groups preferences (Responses)').sheet1"
   ]
  },
  {
   "cell_type": "markdown",
   "metadata": {},
   "source": [
    "### To check for total submissions\n",
    "Assuming that there are only 24 groups, if the total submission count is not equal to 24, inform capstone."
   ]
  },
  {
   "cell_type": "code",
   "execution_count": 3,
   "metadata": {},
   "outputs": [
    {
     "name": "stdout",
     "output_type": "stream",
     "text": [
      "All groups have submitted, please proceed\n"
     ]
    }
   ],
   "source": [
    "total_groups_number = 24\n",
    "\n",
    "if (total_groups_number<=0):\n",
    "    print(\"Invalid total groups, it should be more than zero\")\n",
    "elif (total_groups_number>100):\n",
    "    print(\"Invalid total groups, it should be at most 100\")\n",
    "else:\n",
    "    number_of_submissions = len(sheet.get_all_values()) - 1\n",
    "    #print(number_of_submissions)\n",
    "    if (number_of_submissions < total_groups_number):\n",
    "        print(\"Not all groups have submitted, do some action to remedy\")\n",
    "\n",
    "        groups_present = [\"Not present\"]\n",
    "        for i in range(total_groups_number):\n",
    "            groups_present.append(\"Not present\")\n",
    "\n",
    "\n",
    "        for i in range(2, number_of_submissions + 2):\n",
    "            #to extract a particular cell value  row, column\n",
    "            team_ids = sheet.cell(i, 2).value\n",
    "            team_id = int(team_ids)\n",
    "\n",
    "            if (groups_present[team_id] == \"Not present\"):\n",
    "                groups_present[team_id] = \"present\"\n",
    "\n",
    "        for team_id in range(1,total_groups_number+1):\n",
    "            if (groups_present[team_id] == \"Not present\"):\n",
    "                print(\"Team {} has not submit\".format(team_id))\n",
    "\n",
    "\n",
    "    elif (number_of_submissions > total_groups_number):\n",
    "        print(\"There is oversubmission, do some action to remedy\")\n",
    "    else:\n",
    "        print(\"All groups have submitted, please proceed\")\n"
   ]
  },
  {
   "cell_type": "markdown",
   "metadata": {},
   "source": [
    "### To check for duplicate submissions\n",
    "Although the total submission count could be accurate, it may be a result of some group's unsubmitted preference and another group's duplicate submission. \n",
    "In the case where there is over submission, this block of code will be useful to check for duplicate submission. "
   ]
  },
  {
   "cell_type": "code",
   "execution_count": 4,
   "metadata": {},
   "outputs": [
    {
     "name": "stdout",
     "output_type": "stream",
     "text": [
      "No duplicate found\n"
     ]
    }
   ],
   "source": [
    "#where i am assuming there to be 4 groups\n",
    "\n",
    "groups_checked = [\"Not check\"]\n",
    "for i in range(number_of_submissions):\n",
    "    groups_checked.append(\"Not check\")\n",
    "\n",
    "duplicate = 0\n",
    "\n",
    "for i in range(2, number_of_submissions + 2):\n",
    "    #to extract a particular cell value  row, column\n",
    "    team_ids = sheet.cell(i, 2).value\n",
    "    #print(team_ids)\n",
    "    team_id = int(team_ids)\n",
    "    \n",
    "    \n",
    "    if (groups_checked[team_id] == \"Not check\"):\n",
    "        groups_checked[team_id] = \"checked\"\n",
    "    else:\n",
    "        duplicate = 1\n",
    "        print(\"Duplicate found: Team {}\".format(team_id))\n",
    "        \n",
    "\n",
    "if (duplicate == 0):\n",
    "    print(\"No duplicate found\")\n",
    "    \n",
    "    \n",
    "#print(groups_checked)\n",
    "#groups_checked[2] = \"checked\"\n",
    "#print(groups_checked[2])"
   ]
  },
  {
   "cell_type": "markdown",
   "metadata": {},
   "source": [
    "### To pull out all the necessary information required and store them into a database to send to the algorithm to process"
   ]
  },
  {
   "cell_type": "code",
   "execution_count": null,
   "metadata": {},
   "outputs": [
    {
     "name": "stdout",
     "output_type": "stream",
     "text": [
      "Area of team 1 is 8m2 with length 2m and width 4m\n",
      "Area of team 2 is 8m2 with length 2m and width 4m\n",
      "Area of team 3 is 8m2 with length 2m and width 4m\n",
      "Area of team 4 is 8m2 with length 2m and width 4m\n",
      "Area of team 5 is 4m2 with length 2m and width 2m\n",
      "Area of team 6 is 4m2 with length 2m and width 2m\n",
      "Area of team 7 is 4m2 with length 2m and width 2m\n",
      "Area of team 8 is 4m2 with length 2m and width 2m\n",
      "Area of team 9 is 4m2 with length 2m and width 2m\n",
      "Area of team 10 is 4m2 with length 2m and width 2m\n",
      "Area of team 11 is 4m2 with length 2m and width 2m\n",
      "Area of team 12 is 4m2 with length 2m and width 2m\n",
      "Area of team 13 is 4m2 with length 2m and width 2m\n",
      "Area of team 14 is 4m2 with length 2m and width 2m\n",
      "Area of team 15 is 6m2 with length 2m and width 3m\n",
      "Area of team 16 is 9m2 with length 3m and width 3m\n",
      "Area of team 17 is 20m2 with length 5m and width 4m\n",
      "Area of team 18 is 10m2 with length 5m and width 2m\n",
      "Area of team 19 is 6m2 with length 3m and width 2m\n"
     ]
    }
   ],
   "source": [
    "#variables can be stored into a database to send to the algorithm to process\n",
    "for i in range(2, number_of_submissions + 2):\n",
    "    team_id = int(sheet.cell(i, 2).value)\n",
    "    length = int(sheet.cell(i, 5).value)\n",
    "    width = int(sheet.cell(i, 6).value)\n",
    "    area = length * width\n",
    "    print(\"Area of team {} is {}m2 with length {}m and width {}m\".format(team_id, area, length, width))"
   ]
  },
  {
   "cell_type": "code",
   "execution_count": null,
   "metadata": {},
   "outputs": [],
   "source": []
  }
 ],
 "metadata": {
  "kernelspec": {
   "display_name": "Python 3",
   "language": "python",
   "name": "python3"
  },
  "language_info": {
   "codemirror_mode": {
    "name": "ipython",
    "version": 3
   },
   "file_extension": ".py",
   "mimetype": "text/x-python",
   "name": "python",
   "nbconvert_exporter": "python",
   "pygments_lexer": "ipython3",
   "version": "3.7.4"
  }
 },
 "nbformat": 4,
 "nbformat_minor": 2
}
